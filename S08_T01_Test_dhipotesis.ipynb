{
  "nbformat": 4,
  "nbformat_minor": 0,
  "metadata": {
    "colab": {
      "name": "S08_T01_Test_dhipotesis.ipynb",
      "provenance": [],
      "toc_visible": true,
      "collapsed_sections": [],
      "authorship_tag": "ABX9TyNbAajk1tCUT+l0yuz1UXOx",
      "include_colab_link": true
    },
    "kernelspec": {
      "name": "python3",
      "display_name": "Python 3"
    },
    "language_info": {
      "name": "python"
    }
  },
  "cells": [
    {
      "cell_type": "markdown",
      "metadata": {
        "id": "view-in-github",
        "colab_type": "text"
      },
      "source": [
        "<a href=\"https://colab.research.google.com/github/leobioinf0/Hypothesis_testing/blob/main/S08_T01_Test_dhipotesis.ipynb\" target=\"_parent\"><img src=\"https://colab.research.google.com/assets/colab-badge.svg\" alt=\"Open In Colab\"/></a>"
      ]
    },
    {
      "cell_type": "markdown",
      "metadata": {
        "id": "yyW3pAFnAV-R"
      },
      "source": [
        "# **Test d'hipòtesis**\n",
        "\n",
        "Course: *Data Science amb Python*\n",
        "\n",
        "Sprint: *8. Hypothesis Testing*\n",
        "\n",
        "Task: *S08 T01: Tasca del test d'hipòtesis*\n",
        "\n",
        "Date: *2021-09-28*\n",
        "\n",
        "[Leo Madsen](https://github.com/leobioinf0)\n",
        "\n"
      ]
    },
    {
      "cell_type": "code",
      "metadata": {
        "id": "c-cbWP5PAC23"
      },
      "source": [
        "# importing libraries\n",
        "import scipy as sp\n",
        "import scipy.stats\n",
        "import numpy as np\n",
        "import pandas as pd\n",
        "import matplotlib.pyplot as plt\n",
        "import seaborn as sns\n",
        "import random\n",
        "import warnings\n",
        "\n",
        "sns.set(style=\"darkgrid\",\n",
        "        rc={'figure.figsize':(12,7)})\n",
        "\n",
        "warnings.filterwarnings('ignore')"
      ],
      "execution_count": 2,
      "outputs": []
    },
    {
      "cell_type": "code",
      "execution_count": 57,
      "metadata": {
        "id": "jK1ttkEsJZxP",
        "colab": {
          "base_uri": "https://localhost:8080/",
          "height": 252
        },
        "outputId": "b4276042-8862-4e33-d7b3-c8a7b0646c9f"
      },
      "outputs": [
        {
          "output_type": "stream",
          "name": "stdout",
          "text": [
            "Warning: Total number of columns (28) exceeds max_columns (20). Falling back to pandas display.\n"
          ]
        },
        {
          "output_type": "execute_result",
          "data": {
            "text/html": [
              "\n",
              "  <div id=\"df-080e3ef9-7595-428a-ad24-b071a5fb4280\">\n",
              "    <div class=\"colab-df-container\">\n",
              "      <div>\n",
              "<style scoped>\n",
              "    .dataframe tbody tr th:only-of-type {\n",
              "        vertical-align: middle;\n",
              "    }\n",
              "\n",
              "    .dataframe tbody tr th {\n",
              "        vertical-align: top;\n",
              "    }\n",
              "\n",
              "    .dataframe thead th {\n",
              "        text-align: right;\n",
              "    }\n",
              "</style>\n",
              "<table border=\"1\" class=\"dataframe\">\n",
              "  <thead>\n",
              "    <tr style=\"text-align: right;\">\n",
              "      <th></th>\n",
              "      <th>playerID</th>\n",
              "      <th>Player Name</th>\n",
              "      <th>weight</th>\n",
              "      <th>height</th>\n",
              "      <th>bats</th>\n",
              "      <th>throws</th>\n",
              "      <th>Season</th>\n",
              "      <th>League</th>\n",
              "      <th>teamID</th>\n",
              "      <th>Team</th>\n",
              "      <th>...</th>\n",
              "      <th>RBI</th>\n",
              "      <th>Stolen_Base</th>\n",
              "      <th>Walk</th>\n",
              "      <th>Strikeouts</th>\n",
              "      <th>salary</th>\n",
              "      <th>Intentional_Walk</th>\n",
              "      <th>Hit_By_Pitch</th>\n",
              "      <th>Sacrifice_Bunt</th>\n",
              "      <th>Sacrifice_Fly</th>\n",
              "      <th>Plate_Appearance</th>\n",
              "    </tr>\n",
              "  </thead>\n",
              "  <tbody>\n",
              "    <tr>\n",
              "      <th>0</th>\n",
              "      <td>aardsda01</td>\n",
              "      <td>David Aardsma</td>\n",
              "      <td>215</td>\n",
              "      <td>75</td>\n",
              "      <td>R</td>\n",
              "      <td>R</td>\n",
              "      <td>2004</td>\n",
              "      <td>NL</td>\n",
              "      <td>SFN</td>\n",
              "      <td>San Francisco Giants</td>\n",
              "      <td>...</td>\n",
              "      <td>0</td>\n",
              "      <td>0</td>\n",
              "      <td>0</td>\n",
              "      <td>0</td>\n",
              "      <td>300000</td>\n",
              "      <td>0</td>\n",
              "      <td>0</td>\n",
              "      <td>0</td>\n",
              "      <td>0</td>\n",
              "      <td>0</td>\n",
              "    </tr>\n",
              "    <tr>\n",
              "      <th>1</th>\n",
              "      <td>aardsda01</td>\n",
              "      <td>David Aardsma</td>\n",
              "      <td>215</td>\n",
              "      <td>75</td>\n",
              "      <td>R</td>\n",
              "      <td>R</td>\n",
              "      <td>2007</td>\n",
              "      <td>AL</td>\n",
              "      <td>CHA</td>\n",
              "      <td>Chicago White Sox</td>\n",
              "      <td>...</td>\n",
              "      <td>0</td>\n",
              "      <td>0</td>\n",
              "      <td>0</td>\n",
              "      <td>0</td>\n",
              "      <td>387500</td>\n",
              "      <td>0</td>\n",
              "      <td>0</td>\n",
              "      <td>0</td>\n",
              "      <td>0</td>\n",
              "      <td>0</td>\n",
              "    </tr>\n",
              "    <tr>\n",
              "      <th>2</th>\n",
              "      <td>aardsda01</td>\n",
              "      <td>David Aardsma</td>\n",
              "      <td>215</td>\n",
              "      <td>75</td>\n",
              "      <td>R</td>\n",
              "      <td>R</td>\n",
              "      <td>2008</td>\n",
              "      <td>AL</td>\n",
              "      <td>BOS</td>\n",
              "      <td>Boston Red Sox</td>\n",
              "      <td>...</td>\n",
              "      <td>0</td>\n",
              "      <td>0</td>\n",
              "      <td>0</td>\n",
              "      <td>1</td>\n",
              "      <td>403250</td>\n",
              "      <td>0</td>\n",
              "      <td>0</td>\n",
              "      <td>0</td>\n",
              "      <td>0</td>\n",
              "      <td>1</td>\n",
              "    </tr>\n",
              "    <tr>\n",
              "      <th>3</th>\n",
              "      <td>aardsda01</td>\n",
              "      <td>David Aardsma</td>\n",
              "      <td>215</td>\n",
              "      <td>75</td>\n",
              "      <td>R</td>\n",
              "      <td>R</td>\n",
              "      <td>2009</td>\n",
              "      <td>AL</td>\n",
              "      <td>SEA</td>\n",
              "      <td>Seattle Mariners</td>\n",
              "      <td>...</td>\n",
              "      <td>0</td>\n",
              "      <td>0</td>\n",
              "      <td>0</td>\n",
              "      <td>0</td>\n",
              "      <td>419000</td>\n",
              "      <td>0</td>\n",
              "      <td>0</td>\n",
              "      <td>0</td>\n",
              "      <td>0</td>\n",
              "      <td>0</td>\n",
              "    </tr>\n",
              "    <tr>\n",
              "      <th>4</th>\n",
              "      <td>aardsda01</td>\n",
              "      <td>David Aardsma</td>\n",
              "      <td>215</td>\n",
              "      <td>75</td>\n",
              "      <td>R</td>\n",
              "      <td>R</td>\n",
              "      <td>2012</td>\n",
              "      <td>AL</td>\n",
              "      <td>NYA</td>\n",
              "      <td>New York Yankees</td>\n",
              "      <td>...</td>\n",
              "      <td>0</td>\n",
              "      <td>0</td>\n",
              "      <td>0</td>\n",
              "      <td>0</td>\n",
              "      <td>500000</td>\n",
              "      <td>0</td>\n",
              "      <td>0</td>\n",
              "      <td>0</td>\n",
              "      <td>0</td>\n",
              "      <td>0</td>\n",
              "    </tr>\n",
              "  </tbody>\n",
              "</table>\n",
              "<p>5 rows × 28 columns</p>\n",
              "</div>\n",
              "      <button class=\"colab-df-convert\" onclick=\"convertToInteractive('df-080e3ef9-7595-428a-ad24-b071a5fb4280')\"\n",
              "              title=\"Convert this dataframe to an interactive table.\"\n",
              "              style=\"display:none;\">\n",
              "        \n",
              "  <svg xmlns=\"http://www.w3.org/2000/svg\" height=\"24px\"viewBox=\"0 0 24 24\"\n",
              "       width=\"24px\">\n",
              "    <path d=\"M0 0h24v24H0V0z\" fill=\"none\"/>\n",
              "    <path d=\"M18.56 5.44l.94 2.06.94-2.06 2.06-.94-2.06-.94-.94-2.06-.94 2.06-2.06.94zm-11 1L8.5 8.5l.94-2.06 2.06-.94-2.06-.94L8.5 2.5l-.94 2.06-2.06.94zm10 10l.94 2.06.94-2.06 2.06-.94-2.06-.94-.94-2.06-.94 2.06-2.06.94z\"/><path d=\"M17.41 7.96l-1.37-1.37c-.4-.4-.92-.59-1.43-.59-.52 0-1.04.2-1.43.59L10.3 9.45l-7.72 7.72c-.78.78-.78 2.05 0 2.83L4 21.41c.39.39.9.59 1.41.59.51 0 1.02-.2 1.41-.59l7.78-7.78 2.81-2.81c.8-.78.8-2.07 0-2.86zM5.41 20L4 18.59l7.72-7.72 1.47 1.35L5.41 20z\"/>\n",
              "  </svg>\n",
              "      </button>\n",
              "      \n",
              "  <style>\n",
              "    .colab-df-container {\n",
              "      display:flex;\n",
              "      flex-wrap:wrap;\n",
              "      gap: 12px;\n",
              "    }\n",
              "\n",
              "    .colab-df-convert {\n",
              "      background-color: #E8F0FE;\n",
              "      border: none;\n",
              "      border-radius: 50%;\n",
              "      cursor: pointer;\n",
              "      display: none;\n",
              "      fill: #1967D2;\n",
              "      height: 32px;\n",
              "      padding: 0 0 0 0;\n",
              "      width: 32px;\n",
              "    }\n",
              "\n",
              "    .colab-df-convert:hover {\n",
              "      background-color: #E2EBFA;\n",
              "      box-shadow: 0px 1px 2px rgba(60, 64, 67, 0.3), 0px 1px 3px 1px rgba(60, 64, 67, 0.15);\n",
              "      fill: #174EA6;\n",
              "    }\n",
              "\n",
              "    [theme=dark] .colab-df-convert {\n",
              "      background-color: #3B4455;\n",
              "      fill: #D2E3FC;\n",
              "    }\n",
              "\n",
              "    [theme=dark] .colab-df-convert:hover {\n",
              "      background-color: #434B5C;\n",
              "      box-shadow: 0px 1px 3px 1px rgba(0, 0, 0, 0.15);\n",
              "      filter: drop-shadow(0px 1px 2px rgba(0, 0, 0, 0.3));\n",
              "      fill: #FFFFFF;\n",
              "    }\n",
              "  </style>\n",
              "\n",
              "      <script>\n",
              "        const buttonEl =\n",
              "          document.querySelector('#df-080e3ef9-7595-428a-ad24-b071a5fb4280 button.colab-df-convert');\n",
              "        buttonEl.style.display =\n",
              "          google.colab.kernel.accessAllowed ? 'block' : 'none';\n",
              "\n",
              "        async function convertToInteractive(key) {\n",
              "          const element = document.querySelector('#df-080e3ef9-7595-428a-ad24-b071a5fb4280');\n",
              "          const dataTable =\n",
              "            await google.colab.kernel.invokeFunction('convertToInteractive',\n",
              "                                                     [key], {});\n",
              "          if (!dataTable) return;\n",
              "\n",
              "          const docLinkHtml = 'Like what you see? Visit the ' +\n",
              "            '<a target=\"_blank\" href=https://colab.research.google.com/notebooks/data_table.ipynb>data table notebook</a>'\n",
              "            + ' to learn more about interactive tables.';\n",
              "          element.innerHTML = '';\n",
              "          dataTable['output_type'] = 'display_data';\n",
              "          await google.colab.output.renderOutput(dataTable, element);\n",
              "          const docLink = document.createElement('div');\n",
              "          docLink.innerHTML = docLinkHtml;\n",
              "          element.appendChild(docLink);\n",
              "        }\n",
              "      </script>\n",
              "    </div>\n",
              "  </div>\n",
              "  "
            ],
            "text/plain": [
              "    playerID    Player Name  weight  height bats throws  Season League teamID  \\\n",
              "0  aardsda01  David Aardsma     215      75    R      R    2004     NL    SFN   \n",
              "1  aardsda01  David Aardsma     215      75    R      R    2007     AL    CHA   \n",
              "2  aardsda01  David Aardsma     215      75    R      R    2008     AL    BOS   \n",
              "3  aardsda01  David Aardsma     215      75    R      R    2009     AL    SEA   \n",
              "4  aardsda01  David Aardsma     215      75    R      R    2012     AL    NYA   \n",
              "\n",
              "                   Team  ... RBI  Stolen_Base  Walk  Strikeouts  salary  \\\n",
              "0  San Francisco Giants  ...   0            0     0           0  300000   \n",
              "1     Chicago White Sox  ...   0            0     0           0  387500   \n",
              "2        Boston Red Sox  ...   0            0     0           1  403250   \n",
              "3      Seattle Mariners  ...   0            0     0           0  419000   \n",
              "4      New York Yankees  ...   0            0     0           0  500000   \n",
              "\n",
              "   Intentional_Walk  Hit_By_Pitch  Sacrifice_Bunt  Sacrifice_Fly  \\\n",
              "0                 0             0               0              0   \n",
              "1                 0             0               0              0   \n",
              "2                 0             0               0              0   \n",
              "3                 0             0               0              0   \n",
              "4                 0             0               0              0   \n",
              "\n",
              "   Plate_Appearance  \n",
              "0                 0  \n",
              "1                 0  \n",
              "2                 1  \n",
              "3                 0  \n",
              "4                 0  \n",
              "\n",
              "[5 rows x 28 columns]"
            ]
          },
          "metadata": {},
          "execution_count": 57
        }
      ],
      "source": [
        "import pandas as pd\n",
        "df = pd.read_csv('https://query.data.world/s/v2evalsdcjmjae7qa3znimu24fxffi')\n",
        "# change column names from abbreviations to full names to help with domain knowledge\n",
        "df = df.rename(columns={'G': 'Games_Played', 'AB': 'At_bats', 'R': 'Runs', 'H': 'Hits',\n",
        "                   '2B': 'Doubles', '3B': 'Triples', 'HR': 'Home_Runs', 'SB': 'Stolen_Base',\n",
        "                   'BB': 'Walk', 'SO': 'Strikeouts', 'IBB': 'Intentional_Walk', 'HBP': 'Hit_By_Pitch',\n",
        "                   'SH': 'Sacrifice_Bunt', 'SF': 'Sacrifice_Fly', 'PA': 'Plate_Appearance'})\n",
        "df.head()"
      ]
    },
    {
      "cell_type": "markdown",
      "metadata": {
        "id": "M6RiSU2pumiy"
      },
      "source": [
        "## Exercici 1\n",
        "Agafa un conjunt de dades de tema esportiu que t'agradi i selecciona un atribut del conjunt de dades. Calcula el p-valor i digues si rebutja la hipòtesi nul·la agafant un alfa de 5%. "
      ]
    },
    {
      "cell_type": "code",
      "source": [
        "!pip install fitter"
      ],
      "metadata": {
        "id": "27FEKRxMQcNx"
      },
      "execution_count": null,
      "outputs": []
    },
    {
      "cell_type": "markdown",
      "source": [
        "Shapiro-Wilk Test\n",
        "Tests whether a data sample has a Gaussian distribution.\n",
        "\n",
        "- $H_0 = $ the sample has a Gaussian distribution\n",
        "- $H_1 = $ the sample does not have a Gaussian distribution."
      ],
      "metadata": {
        "id": "zj5sEJQOu10Z"
      }
    },
    {
      "cell_type": "code",
      "source": [
        "# Shapiro-Wilk Test\n",
        "from scipy.stats import shapiro\n",
        "sample =  df['height'].sample(frac=.1, random_state=1)\n",
        "# normality test\n",
        "stat, p = shapiro(sample)\n",
        "print(\"Test-Statistic = %.3f , p-value = %.3f\"%(stat,p))\n",
        "# interpret\n",
        "alpha = 0.05\n",
        "print(\"With a confidence level of {}%\".format((1-alpha)*100))\n",
        "if p > alpha:\n",
        "\tprint('Sample come from a Gaussian distribution (fail to reject H0)')\n",
        "else:\n",
        "\tprint('Sample does not come from a Gaussian distribution (reject H0)')"
      ],
      "metadata": {
        "colab": {
          "base_uri": "https://localhost:8080/"
        },
        "id": "SMGyDs0OT9ew",
        "outputId": "4f01e2ae-20bd-4fa1-91f3-f5505c865185"
      },
      "execution_count": 151,
      "outputs": [
        {
          "output_type": "stream",
          "name": "stdout",
          "text": [
            "Test-Statistic = 0.983 , p-value = 0.000\n",
            "With a confidence level of 95.0%\n",
            "Sample does not come from a Gaussian distribution (reject H0)\n"
          ]
        }
      ]
    },
    {
      "cell_type": "code",
      "source": [
        "from fitter import Fitter\n",
        "sample_fitter = Fitter(sample,\n",
        "           distributions=get_distributions())\n",
        "sample_fitter.fit()\n",
        "sample_fitter.summary()"
      ],
      "metadata": {
        "colab": {
          "base_uri": "https://localhost:8080/",
          "height": 758
        },
        "id": "M_RiGTwO_s21",
        "outputId": "e60af932-530f-4220-ab66-f0fe669f6a73"
      },
      "execution_count": 155,
      "outputs": [
        {
          "output_type": "stream",
          "name": "stderr",
          "text": [
            "WARNING:root:SKIPPED ksone distribution (taking more than 30 seconds)\n",
            "WARNING:root:SKIPPED levy_stable distribution (taking more than 30 seconds)\n",
            "WARNING:root:SKIPPED ncf distribution (taking more than 30 seconds)\n",
            "WARNING:root:SKIPPED nct distribution (taking more than 30 seconds)\n",
            "WARNING:root:SKIPPED ncx2 distribution (taking more than 30 seconds)\n",
            "WARNING:root:SKIPPED rv_continuous distribution (taking more than 30 seconds)\n",
            "WARNING:root:SKIPPED rv_histogram distribution (taking more than 30 seconds)\n",
            "WARNING:root:SKIPPED recipinvgauss distribution (taking more than 30 seconds)\n"
          ]
        },
        {
          "output_type": "execute_result",
          "data": {
            "application/vnd.google.colaboratory.module+javascript": "\n      import \"https://ssl.gstatic.com/colaboratory/data_table/81f25a011006ed3d/data_table.js\";\n\n      window.createDataTable({\n        data: [[\"dgamma\",\n{\n            'v': 3.475087471753709,\n            'f': \"3.475087471753709\",\n        },\n{\n            'v': 799.6247875177655,\n            'f': \"799.6247875177655\",\n        },\n{\n            'v': -18936.28165143844,\n            'f': \"-18936.28165143844\",\n        },\n{\n            'v': Infinity,\n            'f': \"Infinity\",\n        }],\n [\"dweibull\",\n{\n            'v': 3.4880176937524205,\n            'f': \"3.4880176937524205\",\n        },\n{\n            'v': 819.3746946144204,\n            'f': \"819.3746946144204\",\n        },\n{\n            'v': -18925.774948118327,\n            'f': \"-18925.774948118327\",\n        },\n{\n            'v': Infinity,\n            'f': \"Infinity\",\n        }],\n [\"burr12\",\n{\n            'v': 3.5282138560877376,\n            'f': \"3.5282138560877376\",\n        },\n{\n            'v': 783.3249022052269,\n            'f': \"783.3249022052269\",\n        },\n{\n            'v': -18885.412094372132,\n            'f': \"-18885.412094372132\",\n        },\n{\n            'v': Infinity,\n            'f': \"Infinity\",\n        }],\n [\"loggamma\",\n{\n            'v': 3.528666230277096,\n            'f': \"3.528666230277096\",\n        },\n{\n            'v': 837.3107912732534,\n            'f': \"837.3107912732534\",\n        },\n{\n            'v': -18892.997072552385,\n            'f': \"-18892.997072552385\",\n        },\n{\n            'v': Infinity,\n            'f': \"Infinity\",\n        }],\n [\"vonmises_line\",\n{\n            'v': 3.5291415671514836,\n            'f': \"3.5291415671514836\",\n        },\n{\n            'v': 824.2214142472969,\n            'f': \"824.2214142472969\",\n        },\n{\n            'v': -18892.61601144722,\n            'f': \"-18892.61601144722\",\n        },\n{\n            'v': Infinity,\n            'f': \"Infinity\",\n        }]],\n        columns: [[\"string\", \"index\"], [\"number\", \"sumsquare_error\"], [\"number\", \"aic\"], [\"number\", \"bic\"], [\"number\", \"kl_div\"]],\n        columnOptions: [{\"width\": \"1px\", \"className\": \"index_column\"}],\n        rowsPerPage: 25,\n        helpUrl: \"https://colab.research.google.com/notebooks/data_table.ipynb\",\n        suppressOutputScrolling: true,\n        minimumWidth: undefined,\n      });\n    ",
            "text/html": [
              "\n",
              "  <div id=\"df-501d27bf-72ee-4850-9229-a180cc4b064c\">\n",
              "    <div class=\"colab-df-container\">\n",
              "      <div>\n",
              "<style scoped>\n",
              "    .dataframe tbody tr th:only-of-type {\n",
              "        vertical-align: middle;\n",
              "    }\n",
              "\n",
              "    .dataframe tbody tr th {\n",
              "        vertical-align: top;\n",
              "    }\n",
              "\n",
              "    .dataframe thead th {\n",
              "        text-align: right;\n",
              "    }\n",
              "</style>\n",
              "<table border=\"1\" class=\"dataframe\">\n",
              "  <thead>\n",
              "    <tr style=\"text-align: right;\">\n",
              "      <th></th>\n",
              "      <th>sumsquare_error</th>\n",
              "      <th>aic</th>\n",
              "      <th>bic</th>\n",
              "      <th>kl_div</th>\n",
              "    </tr>\n",
              "  </thead>\n",
              "  <tbody>\n",
              "    <tr>\n",
              "      <th>dgamma</th>\n",
              "      <td>3.475087</td>\n",
              "      <td>799.624788</td>\n",
              "      <td>-18936.281651</td>\n",
              "      <td>inf</td>\n",
              "    </tr>\n",
              "    <tr>\n",
              "      <th>dweibull</th>\n",
              "      <td>3.488018</td>\n",
              "      <td>819.374695</td>\n",
              "      <td>-18925.774948</td>\n",
              "      <td>inf</td>\n",
              "    </tr>\n",
              "    <tr>\n",
              "      <th>burr12</th>\n",
              "      <td>3.528214</td>\n",
              "      <td>783.324902</td>\n",
              "      <td>-18885.412094</td>\n",
              "      <td>inf</td>\n",
              "    </tr>\n",
              "    <tr>\n",
              "      <th>loggamma</th>\n",
              "      <td>3.528666</td>\n",
              "      <td>837.310791</td>\n",
              "      <td>-18892.997073</td>\n",
              "      <td>inf</td>\n",
              "    </tr>\n",
              "    <tr>\n",
              "      <th>vonmises_line</th>\n",
              "      <td>3.529142</td>\n",
              "      <td>824.221414</td>\n",
              "      <td>-18892.616011</td>\n",
              "      <td>inf</td>\n",
              "    </tr>\n",
              "  </tbody>\n",
              "</table>\n",
              "</div>\n",
              "      <button class=\"colab-df-convert\" onclick=\"convertToInteractive('df-501d27bf-72ee-4850-9229-a180cc4b064c')\"\n",
              "              title=\"Convert this dataframe to an interactive table.\"\n",
              "              style=\"display:none;\">\n",
              "        \n",
              "  <svg xmlns=\"http://www.w3.org/2000/svg\" height=\"24px\"viewBox=\"0 0 24 24\"\n",
              "       width=\"24px\">\n",
              "    <path d=\"M0 0h24v24H0V0z\" fill=\"none\"/>\n",
              "    <path d=\"M18.56 5.44l.94 2.06.94-2.06 2.06-.94-2.06-.94-.94-2.06-.94 2.06-2.06.94zm-11 1L8.5 8.5l.94-2.06 2.06-.94-2.06-.94L8.5 2.5l-.94 2.06-2.06.94zm10 10l.94 2.06.94-2.06 2.06-.94-2.06-.94-.94-2.06-.94 2.06-2.06.94z\"/><path d=\"M17.41 7.96l-1.37-1.37c-.4-.4-.92-.59-1.43-.59-.52 0-1.04.2-1.43.59L10.3 9.45l-7.72 7.72c-.78.78-.78 2.05 0 2.83L4 21.41c.39.39.9.59 1.41.59.51 0 1.02-.2 1.41-.59l7.78-7.78 2.81-2.81c.8-.78.8-2.07 0-2.86zM5.41 20L4 18.59l7.72-7.72 1.47 1.35L5.41 20z\"/>\n",
              "  </svg>\n",
              "      </button>\n",
              "      \n",
              "  <style>\n",
              "    .colab-df-container {\n",
              "      display:flex;\n",
              "      flex-wrap:wrap;\n",
              "      gap: 12px;\n",
              "    }\n",
              "\n",
              "    .colab-df-convert {\n",
              "      background-color: #E8F0FE;\n",
              "      border: none;\n",
              "      border-radius: 50%;\n",
              "      cursor: pointer;\n",
              "      display: none;\n",
              "      fill: #1967D2;\n",
              "      height: 32px;\n",
              "      padding: 0 0 0 0;\n",
              "      width: 32px;\n",
              "    }\n",
              "\n",
              "    .colab-df-convert:hover {\n",
              "      background-color: #E2EBFA;\n",
              "      box-shadow: 0px 1px 2px rgba(60, 64, 67, 0.3), 0px 1px 3px 1px rgba(60, 64, 67, 0.15);\n",
              "      fill: #174EA6;\n",
              "    }\n",
              "\n",
              "    [theme=dark] .colab-df-convert {\n",
              "      background-color: #3B4455;\n",
              "      fill: #D2E3FC;\n",
              "    }\n",
              "\n",
              "    [theme=dark] .colab-df-convert:hover {\n",
              "      background-color: #434B5C;\n",
              "      box-shadow: 0px 1px 3px 1px rgba(0, 0, 0, 0.15);\n",
              "      filter: drop-shadow(0px 1px 2px rgba(0, 0, 0, 0.3));\n",
              "      fill: #FFFFFF;\n",
              "    }\n",
              "  </style>\n",
              "\n",
              "      <script>\n",
              "        const buttonEl =\n",
              "          document.querySelector('#df-501d27bf-72ee-4850-9229-a180cc4b064c button.colab-df-convert');\n",
              "        buttonEl.style.display =\n",
              "          google.colab.kernel.accessAllowed ? 'block' : 'none';\n",
              "\n",
              "        async function convertToInteractive(key) {\n",
              "          const element = document.querySelector('#df-501d27bf-72ee-4850-9229-a180cc4b064c');\n",
              "          const dataTable =\n",
              "            await google.colab.kernel.invokeFunction('convertToInteractive',\n",
              "                                                     [key], {});\n",
              "          if (!dataTable) return;\n",
              "\n",
              "          const docLinkHtml = 'Like what you see? Visit the ' +\n",
              "            '<a target=\"_blank\" href=https://colab.research.google.com/notebooks/data_table.ipynb>data table notebook</a>'\n",
              "            + ' to learn more about interactive tables.';\n",
              "          element.innerHTML = '';\n",
              "          dataTable['output_type'] = 'display_data';\n",
              "          await google.colab.output.renderOutput(dataTable, element);\n",
              "          const docLink = document.createElement('div');\n",
              "          docLink.innerHTML = docLinkHtml;\n",
              "          element.appendChild(docLink);\n",
              "        }\n",
              "      </script>\n",
              "    </div>\n",
              "  </div>\n",
              "  "
            ],
            "text/plain": [
              "               sumsquare_error         aic           bic  kl_div\n",
              "dgamma                3.475087  799.624788 -18936.281651     inf\n",
              "dweibull              3.488018  819.374695 -18925.774948     inf\n",
              "burr12                3.528214  783.324902 -18885.412094     inf\n",
              "loggamma              3.528666  837.310791 -18892.997073     inf\n",
              "vonmises_line         3.529142  824.221414 -18892.616011     inf"
            ]
          },
          "metadata": {},
          "execution_count": 155
        },
        {
          "output_type": "display_data",
          "data": {
            "image/png": "[encoded data removed]",
            "text/plain": [
              "<Figure size 864x504 with 1 Axes>"
            ]
          },
          "metadata": {}
        }
      ]
    },
    {
      "cell_type": "markdown",
      "source": [
        "We see that the sample best fit to a double gamma continuous random distribution."
      ],
      "metadata": {
        "id": "EEbsvEoOSRXr"
      }
    },
    {
      "cell_type": "code",
      "source": [
        "sample_fitter.get_best()"
      ],
      "metadata": {
        "colab": {
          "base_uri": "https://localhost:8080/"
        },
        "id": "wTgCkzqMREtn",
        "outputId": "9c45e7ed-fb22-41fb-9427-6daecb8b819e"
      },
      "execution_count": 158,
      "outputs": [
        {
          "output_type": "execute_result",
          "data": {
            "text/plain": [
              "{'dgamma': {'a': 1.8557303224539234,\n",
              "  'loc': 73.48028928647835,\n",
              "  'scale': 0.9977419776471326}}"
            ]
          },
          "metadata": {},
          "execution_count": 158
        }
      ]
    },
    {
      "cell_type": "markdown",
      "metadata": {
        "id": "dy4LF74j-Z0K"
      },
      "source": [
        "## Exercici 2\n",
        "Continua amb el conjunt de dades de tema esportiu que t'agradi i selecciona dos altres atributs del conjunt de dades. Calcula els p-valors i digues si rebutgen la hipòtesi nul·la agafant un alfa de 5%."
      ]
    },
    {
      "cell_type": "markdown",
      "source": [
        "Tests whether two samples ('height', 'weight') have a linear relationship.\n",
        "\n",
        "- $H_0 = $ the two samples are independent.\n",
        "- $H_1 = $ there is a dependency between the samples.\n"
      ],
      "metadata": {
        "id": "c8GcaJMMQCIr"
      }
    },
    {
      "cell_type": "code",
      "source": [
        "# Example of the Pearson's Correlation test\n",
        "from scipy.stats import pearsonr\n",
        "sample = df[['height','weight']].sample(frac=.1, random_state=1)\n",
        "stat, p = pearsonr(sample['height'], sample['weight'])\n",
        "\n",
        "print(\"Pearson’s correlation coefficient: = %.3f , p-value = %.3f\"%(stat,p))\n",
        "# interpret\n",
        "alpha = 0.05\n",
        "print(\"With a confidence level of {}%\".format((1-alpha)*100))\n",
        "\n",
        "if p > 0.05:\n",
        "\tprint('Probably independent')\n",
        "else:\n",
        "\tprint('Probably dependent')"
      ],
      "metadata": {
        "colab": {
          "base_uri": "https://localhost:8080/"
        },
        "id": "u4UMKrcT-sW5",
        "outputId": "20f6f2a0-0c7f-4fb1-ebfc-93dcefb683e5"
      },
      "execution_count": 84,
      "outputs": [
        {
          "output_type": "stream",
          "name": "stdout",
          "text": [
            "stat=0.533, p=0.000\n",
            "Probably dependent\n"
          ]
        }
      ]
    },
    {
      "cell_type": "code",
      "source": [
        "sns.lmplot(x= 'height', y= 'weight', data=sample)"
      ],
      "metadata": {
        "colab": {
          "base_uri": "https://localhost:8080/",
          "height": 366
        },
        "id": "-RpxJNvuAlnk",
        "outputId": "9b0b9bb5-8b4d-4f2c-cb83-ceb105d6c635"
      },
      "execution_count": 85,
      "outputs": [
        {
          "output_type": "execute_result",
          "data": {
            "text/plain": [
              "<seaborn.axisgrid.FacetGrid at 0x7fb3f9f6f0d0>"
            ]
          },
          "metadata": {},
          "execution_count": 85
        },
        {
          "output_type": "display_data",
          "data": {
            "image/png": "[encoded data removed]",
            "text/plain": [
              "<Figure size 360x360 with 1 Axes>"
            ]
          },
          "metadata": {}
        }
      ]
    },
    {
      "cell_type": "markdown",
      "metadata": {
        "id": "KXYcl9qbB5Fl"
      },
      "source": [
        "## Exercici 3\n",
        "Continua amb el conjunt de dades de tema esportiu que t'agradi i selecciona tres atributs del conjunt de dades. Calcula el p-valor i digues si rebutja la hipòtesi nul·la agafant un alfa de 5%.\n"
      ]
    },
    {
      "cell_type": "markdown",
      "source": [
        "We want to know if four different 32 seasons (from 1985 to 2016) lead to different mean salary to each Leage. \n",
        "We will use a repeated measures ANOVA to determine if the mean salary differs between seasons.\n",
        "\n",
        "- The null hypothesis (H0): µ1 = µ2 = µ3 (the population means are all equal)\n",
        "- The alternative hypothesis: (H1): at least one population mean is different from the rest"
      ],
      "metadata": {
        "id": "BAqDkOCTLAnB"
      }
    },
    {
      "cell_type": "code",
      "source": [
        "from statsmodels.stats.anova import AnovaRM\n",
        "\n",
        "#perform the repeated measures ANOVA\n",
        "Anova_rm= AnovaRM(data=df, depvar='salary', subject='League', within=['Season'], aggregate_func=\"mean\").fit()"
      ],
      "metadata": {
        "id": "v8trTtyDIBdK"
      },
      "execution_count": 140,
      "outputs": []
    },
    {
      "cell_type": "code",
      "source": [
        "print(Anova_rm)"
      ],
      "metadata": {
        "colab": {
          "base_uri": "https://localhost:8080/"
        },
        "id": "8qlHkN3EN7Wn",
        "outputId": "948ca813-f926-4dc9-80d4-33f44e62601b"
      },
      "execution_count": 142,
      "outputs": [
        {
          "output_type": "stream",
          "name": "stdout",
          "text": [
            "                Anova\n",
            "======================================\n",
            "       F Value   Num DF  Den DF Pr > F\n",
            "--------------------------------------\n",
            "Season 156.0604 31.0000 31.0000 0.0000\n",
            "======================================\n",
            "\n"
          ]
        }
      ]
    },
    {
      "cell_type": "markdown",
      "source": [
        "The F test-statistic is 156.06 and the corresponding p-value is 0.0000. Since this p-value is less than 0.05, we reject the null hypothesis and conclude that there is a statistically significant difference in mean salary between the seasons."
      ],
      "metadata": {
        "id": "bWw-Cj2mOfV9"
      }
    },
    {
      "cell_type": "code",
      "source": [
        "Df = df.groupby([\"League\",\"Season\"]).mean()[\"salary\"].reset_index()\n",
        "sns.lineplot(x=\"Season\", y=\"salary\", hue=\"League\", data=Df)"
      ],
      "metadata": {
        "colab": {
          "base_uri": "https://localhost:8080/",
          "height": 495
        },
        "id": "FHtyasYSPe3G",
        "outputId": "5b07860c-0313-4452-b77f-222d25d8ab00"
      },
      "execution_count": 148,
      "outputs": [
        {
          "output_type": "execute_result",
          "data": {
            "text/plain": [
              "<matplotlib.axes._subplots.AxesSubplot at 0x7fb3f8c0df10>"
            ]
          },
          "metadata": {},
          "execution_count": 148
        },
        {
          "output_type": "display_data",
          "data": {
            "image/png": "[encoded data removed]",
            "text/plain": [
              "<Figure size 864x504 with 1 Axes>"
            ]
          },
          "metadata": {}
        }
      ]
    }
  ]
}